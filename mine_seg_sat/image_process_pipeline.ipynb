{
 "cells": [
  {
   "cell_type": "markdown",
   "metadata": {},
   "source": [
    "## Overview\n",
    "\n",
    "This script will move downloaded images to `prepare_dataset`. The process is briefed as follows:\n",
    "\n",
    "- Images downloaded from `notebooks/download.ipynb` will be stored in `download_file` folder.\n",
    "- Under `download_file` folder, images will be grouped according to the polygon they belong to.\n",
    "- In each polygon, 2 types of images are present: geotiff with band information, and a mask file.\n",
    "- Geotiffs should be moved and stored in `prepare_dataset/images_directory{group_id}` folder.\n",
    "- Mask files are stored in `prepare_dataset/mask_directory{group_id}` folder."
   ]
  },
  {
   "cell_type": "markdown",
   "metadata": {},
   "source": [
    "## Implementation"
   ]
  },
  {
   "cell_type": "code",
   "execution_count": 1,
   "metadata": {},
   "outputs": [],
   "source": [
    "import os\n",
    "import glob\n",
    "import shutil\n"
   ]
  },
  {
   "cell_type": "code",
   "execution_count": 4,
   "metadata": {},
   "outputs": [
    {
     "name": "stdout",
     "output_type": "stream",
     "text": [
      "['../download_file/S2A_7VFF_20230820_0_L2A', '../download_file/S2B_7VFG_20230822_0_L2A', '../download_file/S2A_7VFG_20230820_0_L2A', '../download_file/S2B_8VLM_20230822_0_L2A', '../download_file/S2B_8VML_20230822_0_L2A', '../download_file/S2A_7VFF_20230820_0_L2A/20230820', '../download_file/S2B_7VFG_20230822_0_L2A/20230822', '../download_file/S2A_7VFG_20230820_0_L2A/20230820', '../download_file/S2A_7VFG_20230820_0_L2A/20230820/tiles', '../download_file/S2A_7VFG_20230820_0_L2A/20230820/tiles/9_4', '../download_file/S2A_7VFG_20230820_0_L2A/20230820/tiles/7_2', '../download_file/S2A_7VFG_20230820_0_L2A/20230820/tiles/5_8', '../download_file/S2A_7VFG_20230820_0_L2A/20230820/tiles/10_6', '../download_file/S2A_7VFG_20230820_0_L2A/20230820/tiles/5_1', '../download_file/S2A_7VFG_20230820_0_L2A/20230820/tiles/5_6', '../download_file/S2A_7VFG_20230820_0_L2A/20230820/tiles/9_2', '../download_file/S2A_7VFG_20230820_0_L2A/20230820/tiles/9_5', '../download_file/S2A_7VFG_20230820_0_L2A/20230820/tiles/5_7', '../download_file/S2A_7VFG_20230820_0_L2A/20230820/tiles/5_0', '../download_file/S2A_7VFG_20230820_0_L2A/20230820/tiles/5_9', '../download_file/S2A_7VFG_20230820_0_L2A/20230820/tiles/12_3', '../download_file/S2A_7VFG_20230820_0_L2A/20230820/tiles/7_3', '../download_file/S2A_7VFG_20230820_0_L2A/20230820/tiles/13_8', '../download_file/S2A_7VFG_20230820_0_L2A/20230820/tiles/11_2', '../download_file/S2A_7VFG_20230820_0_L2A/20230820/tiles/6_1', '../download_file/S2A_7VFG_20230820_0_L2A/20230820/tiles/6_0', '../download_file/S2A_7VFG_20230820_0_L2A/20230820/tiles/11_3', '../download_file/S2A_7VFG_20230820_0_L2A/20230820/tiles/13_9', '../download_file/S2A_7VFG_20230820_0_L2A/20230820/tiles/8_1', '../download_file/S2A_7VFG_20230820_0_L2A/20230820/tiles/5_11', '../download_file/S2A_7VFG_20230820_0_L2A/20230820/tiles/5_10', '../download_file/S2A_7VFG_20230820_0_L2A/20230820/tiles/10_2', '../download_file/S2A_7VFG_20230820_0_L2A/20230820/tiles/5_5', '../download_file/S2A_7VFG_20230820_0_L2A/20230820/tiles/10_5', '../download_file/S2A_7VFG_20230820_0_L2A/20230820/tiles/12_8', '../download_file/S2A_7VFG_20230820_0_L2A/20230820/tiles/5_4', '../download_file/S2A_7VFG_20230820_0_L2A/20230820/tiles/12_7', '../download_file/S2A_7VFG_20230820_0_L2A/20230820/tiles/9_1', '../download_file/S2A_7VFG_20230820_0_L2A/20230820/tiles/8_3', '../download_file/S2A_7VFG_20230820_0_L2A/20230820/tiles/8_4', '../download_file/S2A_7VFG_20230820_0_L2A/20230820/tiles/11_6', '../download_file/S2A_7VFG_20230820_0_L2A/20230820/tiles/6_2', '../download_file/S2A_7VFG_20230820_0_L2A/20230820/tiles/8_2', '../download_file/S2A_7VFG_20230820_0_L2A/20230820/tiles/6_3', '../download_file/S2A_7VFG_20230820_0_L2A/20230820/tiles/13_4', '../download_file/S2A_7VFG_20230820_0_L2A/20230820/tiles/6_4', '../download_file/S2A_7VFG_20230820_0_L2A/20230820/tiles/13_3', '../download_file/S2A_7VFG_20230820_0_L2A/20230820/tiles/4_0', '../download_file/S2A_7VFG_20230820_0_L2A/20230820/tiles/11_7', '../download_file/S2A_7VFG_20230820_0_L2A/20230820/tiles/5_12', '../download_file/S2A_7VFG_20230820_0_L2A/20230820/tiles/5_13', '../download_file/S2B_8VLM_20230822_0_L2A/20230822', '../download_file/S2B_8VLM_20230822_0_L2A/20230822/tiles', '../download_file/S2B_8VLM_20230822_0_L2A/20230822/tiles/6_12', '../download_file/S2B_8VLM_20230822_0_L2A/20230822/tiles/12_2', '../download_file/S2B_8VLM_20230822_0_L2A/20230822/tiles/5_8', '../download_file/S2B_8VLM_20230822_0_L2A/20230822/tiles/5_1', '../download_file/S2B_8VLM_20230822_0_L2A/20230822/tiles/10_1', '../download_file/S2B_8VLM_20230822_0_L2A/20230822/tiles/5_6', '../download_file/S2B_8VLM_20230822_0_L2A/20230822/tiles/6_13', '../download_file/S2B_8VLM_20230822_0_L2A/20230822/tiles/10_0', '../download_file/S2B_8VLM_20230822_0_L2A/20230822/tiles/5_7', '../download_file/S2B_8VLM_20230822_0_L2A/20230822/tiles/5_0', '../download_file/S2B_8VLM_20230822_0_L2A/20230822/tiles/12_3', '../download_file/S2B_8VLM_20230822_0_L2A/20230822/tiles/6_8', '../download_file/S2B_8VLM_20230822_0_L2A/20230822/tiles/11_2', '../download_file/S2B_8VLM_20230822_0_L2A/20230822/tiles/6_9', '../download_file/S2B_8VLM_20230822_0_L2A/20230822/tiles/5_5', '../download_file/S2B_8VLM_20230822_0_L2A/20230822/tiles/5_2', '../download_file/S2B_8VLM_20230822_0_L2A/20230822/tiles/6_11', '../download_file/S2B_8VLM_20230822_0_L2A/20230822/tiles/9_0', '../download_file/S2B_8VLM_20230822_0_L2A/20230822/tiles/5_3', '../download_file/S2B_8VLM_20230822_0_L2A/20230822/tiles/5_4', '../download_file/S2B_8VLM_20230822_0_L2A/20230822/tiles/6_10', '../download_file/S2B_8VLM_20230822_0_L2A/20230822/tiles/11_1', '../download_file/S2B_8VLM_20230822_0_L2A/20230822/tiles/13_4', '../download_file/S2B_8VLM_20230822_0_L2A/20230822/tiles/13_3', '../download_file/S2B_8VML_20230822_0_L2A/20230822']\n"
     ]
    }
   ],
   "source": [
    "def fast_scandir(dirname: str) -> list:\n",
    "    \"\"\"\n",
    "    Scan and return all subfolders of a directory.\n",
    "    \"\"\"\n",
    "    subfolders= [f.path for f in os.scandir(dirname) if f.is_dir()]\n",
    "    for dirname in list(subfolders):\n",
    "        subfolders.extend(fast_scandir(dirname))\n",
    "    return subfolders\n",
    "\n",
    "source_path = \"../download_file/\"\n",
    "subfolders = fast_scandir(source_path)\n",
    "print(subfolders, sep=\"\\n\")\n"
   ]
  },
  {
   "cell_type": "code",
   "execution_count": null,
   "metadata": {},
   "outputs": [],
   "source": []
  }
 ],
 "metadata": {
  "kernelspec": {
   "display_name": "env",
   "language": "python",
   "name": "python3"
  },
  "language_info": {
   "codemirror_mode": {
    "name": "ipython",
    "version": 3
   },
   "file_extension": ".py",
   "mimetype": "text/x-python",
   "name": "python",
   "nbconvert_exporter": "python",
   "pygments_lexer": "ipython3",
   "version": "3.9.6"
  }
 },
 "nbformat": 4,
 "nbformat_minor": 2
}
