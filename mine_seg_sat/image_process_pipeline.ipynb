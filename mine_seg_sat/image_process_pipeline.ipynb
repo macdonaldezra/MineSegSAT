{
 "cells": [
  {
   "cell_type": "markdown",
   "metadata": {},
   "source": [
    "## Overview\n",
    "\n",
    "This script will move downloaded images to `prepare_dataset`. The process is briefed as follows:\n",
    "\n",
    "- Images downloaded from `notebooks/download.ipynb` will be stored in `download_file` folder.\n",
    "- Under `download_file` folder, images will be grouped according to the polygon they belong to.\n",
    "- In each polygon, 2 types of images are present: geotiff with band information, and a mask file.\n",
    "- Geotiffs should be moved and stored in `prepare_dataset/images_directory{group_id}` folder.\n",
    "- Mask files are stored in `prepare_dataset/mask_directory{group_id}` folder."
   ]
  }
 ],
 "metadata": {
  "language_info": {
   "name": "python"
  }
 },
 "nbformat": 4,
 "nbformat_minor": 2
}
