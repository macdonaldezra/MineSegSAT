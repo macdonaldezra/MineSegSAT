{
 "cells": [
  {
   "cell_type": "markdown",
   "metadata": {},
   "source": [
    "## Overview\n",
    "\n",
    "This script will move downloaded images to `prepare_dataset`. The process is briefed as follows:\n",
    "\n",
    "- Images downloaded from `notebooks/download.ipynb` will be stored in `download_file` folder.\n",
    "- Under `download_file` folder, images will be grouped according to the polygon they belong to.\n",
    "- In each polygon, 2 types of images are present: geotiff with band information, and a mask file.\n",
    "- Geotiffs should be moved and stored in `prepare_dataset/images_directory{group_id}` folder.\n",
    "- Mask files are stored in `prepare_dataset/mask_directory{group_id}` folder."
   ]
  },
  {
   "cell_type": "markdown",
   "metadata": {},
   "source": [
    "## Implementation"
   ]
  },
  {
   "cell_type": "code",
   "execution_count": 1,
   "metadata": {},
   "outputs": [],
   "source": [
    "import os\n",
    "import glob\n",
    "import shutil\n"
   ]
  },
  {
   "cell_type": "code",
   "execution_count": null,
   "metadata": {},
   "outputs": [],
   "source": []
  }
 ],
 "metadata": {
  "kernelspec": {
   "display_name": "env",
   "language": "python",
   "name": "python3"
  },
  "language_info": {
   "codemirror_mode": {
    "name": "ipython",
    "version": 3
   },
   "file_extension": ".py",
   "mimetype": "text/x-python",
   "name": "python",
   "nbconvert_exporter": "python",
   "pygments_lexer": "ipython3",
   "version": "3.9.6"
  }
 },
 "nbformat": 4,
 "nbformat_minor": 2
}
