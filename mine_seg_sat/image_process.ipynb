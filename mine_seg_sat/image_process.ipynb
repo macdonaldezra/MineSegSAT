{
 "cells": [
  {
   "cell_type": "code",
   "execution_count": 23,
   "metadata": {
    "ExecuteTime": {
     "end_time": "2023-11-07T23:42:07.622665Z",
     "start_time": "2023-11-07T23:42:07.474484Z"
    }
   },
   "outputs": [
    {
     "ename": "AttributeError",
     "evalue": "'MineSATDataset' object has no attribute 'get_transformed_images'",
     "output_type": "error",
     "traceback": [
      "\u001B[0;31m---------------------------------------------------------------------------\u001B[0m",
      "\u001B[0;31mAttributeError\u001B[0m                            Traceback (most recent call last)",
      "Cell \u001B[0;32mIn[23], line 30\u001B[0m\n\u001B[1;32m     27\u001B[0m original_dir_name \u001B[38;5;241m=\u001B[39m Path(filepath)\u001B[38;5;241m.\u001B[39mname\n\u001B[1;32m     29\u001B[0m \u001B[38;5;66;03m# Get the processed images\u001B[39;00m\n\u001B[0;32m---> 30\u001B[0m images_dict \u001B[38;5;241m=\u001B[39m \u001B[43mforest_sat_dataset\u001B[49m\u001B[38;5;241;43m.\u001B[39;49m\u001B[43mget_transformed_images\u001B[49m(index)  \u001B[38;5;66;03m# Using the new method\u001B[39;00m\n\u001B[1;32m     32\u001B[0m \u001B[38;5;66;03m# Create a new directory path for the processed images\u001B[39;00m\n\u001B[1;32m     33\u001B[0m processed_dir_path \u001B[38;5;241m=\u001B[39m processed_path \u001B[38;5;241m/\u001B[39m original_dir_name\n",
      "\u001B[0;31mAttributeError\u001B[0m: 'MineSATDataset' object has no attribute 'get_transformed_images'"
     ]
    }
   ],
   "source": [
    "import os\n",
    "import shutil\n",
    "from pathlib import Path\n",
    "from dotenv import load_dotenv\n",
    "import dataset  # Make sure this is the correct module name\n",
    "import tifffile as tiff\n",
    "\n",
    "load_dotenv()\n",
    "\n",
    "data_path = Path(os.getenv(\"prepare_dataset_folder\"))\n",
    "processed_path = Path(os.getenv(\"processed_images_folder\"))\n",
    "split = \"train\"  # Adjust as needed for 'val' or 'test'\n",
    "\n",
    "# Ensure the processed data folder exists\n",
    "processed_path.mkdir(parents=True, exist_ok=True)\n",
    "\n",
    "# Instantiate the dataset\n",
    "forest_sat_dataset = dataset.MineSATDataset(split=split, data_path=data_path)\n",
    "\n",
    "\n",
    "# Iterate over all dataset indices\n",
    "for index in range(len(forest_sat_dataset)):\n",
    "    # Get the filepaths for the current index\n",
    "    filepath = forest_sat_dataset.filepaths[index]\n",
    "    \n",
    "    # Extract the original directory name\n",
    "    original_dir_name = Path(filepath).name\n",
    "    \n",
    "    # Get the processed images\n",
    "    images_dict = forest_sat_dataset.get_transformed_images(index)  # Using the new method\n",
    "    \n",
    "    # Create a new directory path for the processed images\n",
    "    processed_dir_path = processed_path / original_dir_name\n",
    "    processed_dir_path.mkdir(parents=True, exist_ok=True)\n",
    "    \n",
    "    # Save each processed image in the new directory\n",
    "    for img_type, image in images_dict.items():\n",
    "        # Skip saving the mask if you only want the indices and RGB images\n",
    "        if img_type == \"Mask\":\n",
    "            continue\n",
    "\n",
    "        # Define the filename, maintaining the original directory name\n",
    "        filename = f\"{original_dir_name}_{img_type}.tif\"\n",
    "        # Define the full path\n",
    "        filepath = processed_dir_path / filename\n",
    "        # Save the image\n",
    "        tiff.imwrite(filepath, image) \n"
   ]
  },
  {
   "cell_type": "code",
   "execution_count": 20,
   "metadata": {
    "ExecuteTime": {
     "end_time": "2023-11-07T23:40:41.709624Z",
     "start_time": "2023-11-07T23:40:41.700659Z"
    }
   },
   "outputs": [],
   "source": [
    "\n",
    "import numpy as np\n",
    "import csv\n",
    "\n",
    "def save_numerical_values_to_csv(numerical_values, csv_filename):\n",
    "    # Flatten the numerical values and prepare them for writing to a CSV file\n",
    "    flattened_data = {}\n",
    "    for key, value in numerical_values.items():\n",
    "        if isinstance(value, np.ndarray):\n",
    "            flattened_data[key] = value.flatten()\n",
    "        else:\n",
    "            flattened_data[key] = value\n",
    "\n",
    "    # Find the longest array in the flattened data\n",
    "    max_length = max(len(v) for v in flattened_data.values())\n",
    "\n",
    "    # Ensure all arrays are the same length, filling with NaN where necessary\n",
    "    for key in flattened_data:\n",
    "        length = len(flattened_data[key])\n",
    "        if length < max_length:\n",
    "            flattened_data[key] = np.pad(flattened_data[key], (0, max_length - length), constant_values=np.nan)\n",
    "\n",
    "    # Write to CSV\n",
    "    with open(csv_filename, 'w', newline='') as csvfile:\n",
    "        fieldnames = list(flattened_data.keys())\n",
    "        writer = csv.DictWriter(csvfile, fieldnames=fieldnames)\n",
    "\n",
    "        writer.writeheader()\n",
    "        for i in range(max_length):\n",
    "            row = {key: flattened_data[key][i] for key in fieldnames}\n",
    "            writer.writerow(row)\n"
   ]
  },
  {
   "cell_type": "code",
   "execution_count": 14,
   "metadata": {
    "ExecuteTime": {
     "end_time": "2023-11-07T23:36:17.987984Z",
     "start_time": "2023-11-07T23:36:17.891678Z"
    }
   },
   "outputs": [
    {
     "ename": "FileNotFoundError",
     "evalue": "[Errno 2] No such file or directory: '/Users/lilllmeng/PycharmProjects/Capstone/prepare_dataset/image_directory_20230813_100/B07.tif'",
     "output_type": "error",
     "traceback": [
      "\u001B[0;31m---------------------------------------------------------------------------\u001B[0m",
      "\u001B[0;31mFileNotFoundError\u001B[0m                         Traceback (most recent call last)",
      "\u001B[0;32m/var/folders/zk/gdbl783j40ldg_nb6j2467rh0000gn/T/ipykernel_17167/2852366791.py\u001B[0m in \u001B[0;36m?\u001B[0;34m()\u001B[0m\n\u001B[0;32m----> 1\u001B[0;31m \u001B[0mnumerical_values\u001B[0m \u001B[0;34m=\u001B[0m \u001B[0mforest_sat_dataset\u001B[0m\u001B[0;34m.\u001B[0m\u001B[0mget_numerical_values\u001B[0m\u001B[0;34m(\u001B[0m\u001B[0mindex\u001B[0m\u001B[0;34m)\u001B[0m\u001B[0;34m\u001B[0m\u001B[0;34m\u001B[0m\u001B[0m\n\u001B[0m\u001B[1;32m      2\u001B[0m \u001B[0mprint\u001B[0m\u001B[0;34m(\u001B[0m\u001B[0mnumerical_values\u001B[0m\u001B[0;34m)\u001B[0m\u001B[0;34m\u001B[0m\u001B[0;34m\u001B[0m\u001B[0m\n\u001B[1;32m      3\u001B[0m \u001B[0msave_numerical_values_to_csv\u001B[0m\u001B[0;34m(\u001B[0m\u001B[0mnumerical_values\u001B[0m\u001B[0;34m,\u001B[0m \u001B[0;34m\"../data_csv/data.csv\"\u001B[0m\u001B[0;34m)\u001B[0m\u001B[0;34m\u001B[0m\u001B[0;34m\u001B[0m\u001B[0m\n\u001B[1;32m      4\u001B[0m \u001B[0;34m\u001B[0m\u001B[0m\n",
      "\u001B[0;32m~/PycharmProjects/Capstone/mine_seg_sat/dataset.py\u001B[0m in \u001B[0;36m?\u001B[0;34m(self, index, percentile)\u001B[0m\n\u001B[1;32m    495\u001B[0m         \u001B[0;31m# Load and scale the bands\u001B[0m\u001B[0;34m\u001B[0m\u001B[0;34m\u001B[0m\u001B[0;34m\u001B[0m\u001B[0m\n\u001B[1;32m    496\u001B[0m         \u001B[0mB02\u001B[0m \u001B[0;34m=\u001B[0m \u001B[0mself\u001B[0m\u001B[0;34m.\u001B[0m\u001B[0mscale_band\u001B[0m\u001B[0;34m(\u001B[0m\u001B[0mtiff\u001B[0m\u001B[0;34m.\u001B[0m\u001B[0mimread\u001B[0m\u001B[0;34m(\u001B[0m\u001B[0;34mf\"{self.data_path.as_posix()}/{filepath}/B02.tif\"\u001B[0m\u001B[0;34m)\u001B[0m\u001B[0;34m,\u001B[0m \u001B[0mpercentile\u001B[0m\u001B[0;34m=\u001B[0m\u001B[0mpercentile\u001B[0m\u001B[0;34m)\u001B[0m\u001B[0;34m\u001B[0m\u001B[0;34m\u001B[0m\u001B[0m\n\u001B[1;32m    497\u001B[0m         \u001B[0mB03\u001B[0m \u001B[0;34m=\u001B[0m \u001B[0mself\u001B[0m\u001B[0;34m.\u001B[0m\u001B[0mscale_band\u001B[0m\u001B[0;34m(\u001B[0m\u001B[0mtiff\u001B[0m\u001B[0;34m.\u001B[0m\u001B[0mimread\u001B[0m\u001B[0;34m(\u001B[0m\u001B[0;34mf\"{self.data_path.as_posix()}/{filepath}/B03.tif\"\u001B[0m\u001B[0;34m)\u001B[0m\u001B[0;34m,\u001B[0m \u001B[0mpercentile\u001B[0m\u001B[0;34m=\u001B[0m\u001B[0mpercentile\u001B[0m\u001B[0;34m)\u001B[0m\u001B[0;34m\u001B[0m\u001B[0;34m\u001B[0m\u001B[0m\n\u001B[1;32m    498\u001B[0m         \u001B[0mB04\u001B[0m \u001B[0;34m=\u001B[0m \u001B[0mself\u001B[0m\u001B[0;34m.\u001B[0m\u001B[0mscale_band\u001B[0m\u001B[0;34m(\u001B[0m\u001B[0mtiff\u001B[0m\u001B[0;34m.\u001B[0m\u001B[0mimread\u001B[0m\u001B[0;34m(\u001B[0m\u001B[0;34mf\"{self.data_path.as_posix()}/{filepath}/B04.tif\"\u001B[0m\u001B[0;34m)\u001B[0m\u001B[0;34m,\u001B[0m \u001B[0mpercentile\u001B[0m\u001B[0;34m=\u001B[0m\u001B[0mpercentile\u001B[0m\u001B[0;34m)\u001B[0m\u001B[0;34m\u001B[0m\u001B[0;34m\u001B[0m\u001B[0m\n\u001B[0;32m--> 499\u001B[0;31m         \u001B[0mB07\u001B[0m \u001B[0;34m=\u001B[0m \u001B[0mself\u001B[0m\u001B[0;34m.\u001B[0m\u001B[0mscale_band\u001B[0m\u001B[0;34m(\u001B[0m\u001B[0mtiff\u001B[0m\u001B[0;34m.\u001B[0m\u001B[0mimread\u001B[0m\u001B[0;34m(\u001B[0m\u001B[0;34mf\"{self.data_path.as_posix()}/{filepath}/B07.tif\"\u001B[0m\u001B[0;34m)\u001B[0m\u001B[0;34m,\u001B[0m \u001B[0mpercentile\u001B[0m\u001B[0;34m=\u001B[0m\u001B[0mpercentile\u001B[0m\u001B[0;34m)\u001B[0m\u001B[0;34m\u001B[0m\u001B[0;34m\u001B[0m\u001B[0m\n\u001B[0m\u001B[1;32m    500\u001B[0m         \u001B[0mB08\u001B[0m \u001B[0;34m=\u001B[0m \u001B[0mself\u001B[0m\u001B[0;34m.\u001B[0m\u001B[0mscale_band\u001B[0m\u001B[0;34m(\u001B[0m\u001B[0mtiff\u001B[0m\u001B[0;34m.\u001B[0m\u001B[0mimread\u001B[0m\u001B[0;34m(\u001B[0m\u001B[0;34mf\"{self.data_path.as_posix()}/{filepath}/B08.tif\"\u001B[0m\u001B[0;34m)\u001B[0m\u001B[0;34m,\u001B[0m \u001B[0mpercentile\u001B[0m\u001B[0;34m=\u001B[0m\u001B[0mpercentile\u001B[0m\u001B[0;34m)\u001B[0m\u001B[0;34m\u001B[0m\u001B[0;34m\u001B[0m\u001B[0m\n\u001B[1;32m    501\u001B[0m \u001B[0;34m\u001B[0m\u001B[0m\n\u001B[1;32m    502\u001B[0m         \u001B[0mB11\u001B[0m \u001B[0;34m=\u001B[0m \u001B[0mcv2\u001B[0m\u001B[0;34m.\u001B[0m\u001B[0mresize\u001B[0m\u001B[0;34m(\u001B[0m\u001B[0mtiff\u001B[0m\u001B[0;34m.\u001B[0m\u001B[0mimread\u001B[0m\u001B[0;34m(\u001B[0m\u001B[0;34mf\"{self.data_path.as_posix()}/{filepath}/B11.tif\"\u001B[0m\u001B[0;34m)\u001B[0m\u001B[0;34m,\u001B[0m \u001B[0;32mNone\u001B[0m\u001B[0;34m,\u001B[0m \u001B[0mfx\u001B[0m\u001B[0;34m=\u001B[0m\u001B[0;36m2\u001B[0m\u001B[0;34m,\u001B[0m \u001B[0mfy\u001B[0m\u001B[0;34m=\u001B[0m\u001B[0;36m2\u001B[0m\u001B[0;34m,\u001B[0m \u001B[0minterpolation\u001B[0m\u001B[0;34m=\u001B[0m\u001B[0mcv2\u001B[0m\u001B[0;34m.\u001B[0m\u001B[0mINTER_CUBIC\u001B[0m\u001B[0;34m)\u001B[0m\u001B[0;34m\u001B[0m\u001B[0;34m\u001B[0m\u001B[0m\n",
      "\u001B[0;32m~/PycharmProjects/Capstone/venv/lib/python3.9/site-packages/tifffile/tifffile.py\u001B[0m in \u001B[0;36m?\u001B[0;34m(files, selection, aszarr, key, series, level, squeeze, maxworkers, buffersize, mode, name, offset, size, pattern, axesorder, categories, imread, sort, container, chunkshape, dtype, axestiled, ioworkers, chunkmode, fillvalue, zattrs, multiscales, omexml, out, out_inplace, _multifile, _useframes, **kwargs)\u001B[0m\n\u001B[1;32m   1074\u001B[0m \u001B[0;34m\u001B[0m\u001B[0m\n\u001B[1;32m   1075\u001B[0m         if isinstance(files, str) or not isinstance(\n\u001B[1;32m   1076\u001B[0m             \u001B[0mfiles\u001B[0m\u001B[0;34m,\u001B[0m \u001B[0mcollections\u001B[0m\u001B[0;34m.\u001B[0m\u001B[0mabc\u001B[0m\u001B[0;34m.\u001B[0m\u001B[0mSequence\u001B[0m\u001B[0;34m\u001B[0m\u001B[0;34m\u001B[0m\u001B[0m\n\u001B[1;32m   1077\u001B[0m         ):\n\u001B[0;32m-> 1078\u001B[0;31m             with TiffFile(\n\u001B[0m\u001B[1;32m   1079\u001B[0m                 \u001B[0mfiles\u001B[0m\u001B[0;34m,\u001B[0m\u001B[0;34m\u001B[0m\u001B[0;34m\u001B[0m\u001B[0m\n\u001B[1;32m   1080\u001B[0m                 \u001B[0mmode\u001B[0m\u001B[0;34m=\u001B[0m\u001B[0mmode\u001B[0m\u001B[0;34m,\u001B[0m\u001B[0;34m\u001B[0m\u001B[0;34m\u001B[0m\u001B[0m\n\u001B[1;32m   1081\u001B[0m                 \u001B[0mname\u001B[0m\u001B[0;34m=\u001B[0m\u001B[0mname\u001B[0m\u001B[0;34m,\u001B[0m\u001B[0;34m\u001B[0m\u001B[0;34m\u001B[0m\u001B[0m\n",
      "\u001B[0;32m~/PycharmProjects/Capstone/venv/lib/python3.9/site-packages/tifffile/tifffile.py\u001B[0m in \u001B[0;36m?\u001B[0;34m(self, file, mode, name, offset, size, omexml, _multifile, _useframes, _parent, **is_flags)\u001B[0m\n\u001B[1;32m   4070\u001B[0m                 \u001B[0;32mraise\u001B[0m \u001B[0mValueError\u001B[0m\u001B[0;34m(\u001B[0m\u001B[0;34m'invalid OME-XML'\u001B[0m\u001B[0;34m)\u001B[0m\u001B[0;34m\u001B[0m\u001B[0;34m\u001B[0m\u001B[0m\n\u001B[1;32m   4071\u001B[0m             \u001B[0mself\u001B[0m\u001B[0;34m.\u001B[0m\u001B[0m_omexml\u001B[0m \u001B[0;34m=\u001B[0m \u001B[0momexml\u001B[0m\u001B[0;34m\u001B[0m\u001B[0;34m\u001B[0m\u001B[0m\n\u001B[1;32m   4072\u001B[0m             \u001B[0mself\u001B[0m\u001B[0;34m.\u001B[0m\u001B[0mis_ome\u001B[0m \u001B[0;34m=\u001B[0m \u001B[0;32mTrue\u001B[0m\u001B[0;34m\u001B[0m\u001B[0;34m\u001B[0m\u001B[0m\n\u001B[1;32m   4073\u001B[0m \u001B[0;34m\u001B[0m\u001B[0m\n\u001B[0;32m-> 4074\u001B[0;31m         \u001B[0mfh\u001B[0m \u001B[0;34m=\u001B[0m \u001B[0mFileHandle\u001B[0m\u001B[0;34m(\u001B[0m\u001B[0mfile\u001B[0m\u001B[0;34m,\u001B[0m \u001B[0mmode\u001B[0m\u001B[0;34m=\u001B[0m\u001B[0mmode\u001B[0m\u001B[0;34m,\u001B[0m \u001B[0mname\u001B[0m\u001B[0;34m=\u001B[0m\u001B[0mname\u001B[0m\u001B[0;34m,\u001B[0m \u001B[0moffset\u001B[0m\u001B[0;34m=\u001B[0m\u001B[0moffset\u001B[0m\u001B[0;34m,\u001B[0m \u001B[0msize\u001B[0m\u001B[0;34m=\u001B[0m\u001B[0msize\u001B[0m\u001B[0;34m)\u001B[0m\u001B[0;34m\u001B[0m\u001B[0;34m\u001B[0m\u001B[0m\n\u001B[0m\u001B[1;32m   4075\u001B[0m         \u001B[0mself\u001B[0m\u001B[0;34m.\u001B[0m\u001B[0m_fh\u001B[0m \u001B[0;34m=\u001B[0m \u001B[0mfh\u001B[0m\u001B[0;34m\u001B[0m\u001B[0;34m\u001B[0m\u001B[0m\n\u001B[1;32m   4076\u001B[0m         \u001B[0mself\u001B[0m\u001B[0;34m.\u001B[0m\u001B[0m_multifile\u001B[0m \u001B[0;34m=\u001B[0m \u001B[0;32mTrue\u001B[0m \u001B[0;32mif\u001B[0m \u001B[0m_multifile\u001B[0m \u001B[0;32mis\u001B[0m \u001B[0;32mNone\u001B[0m \u001B[0;32melse\u001B[0m \u001B[0mbool\u001B[0m\u001B[0;34m(\u001B[0m\u001B[0m_multifile\u001B[0m\u001B[0;34m)\u001B[0m\u001B[0;34m\u001B[0m\u001B[0;34m\u001B[0m\u001B[0m\n\u001B[1;32m   4077\u001B[0m         \u001B[0mself\u001B[0m\u001B[0;34m.\u001B[0m\u001B[0m_files\u001B[0m \u001B[0;34m=\u001B[0m \u001B[0;34m{\u001B[0m\u001B[0mfh\u001B[0m\u001B[0;34m.\u001B[0m\u001B[0mname\u001B[0m\u001B[0;34m:\u001B[0m \u001B[0mself\u001B[0m\u001B[0;34m}\u001B[0m\u001B[0;34m\u001B[0m\u001B[0;34m\u001B[0m\u001B[0m\n",
      "\u001B[0;32m~/PycharmProjects/Capstone/venv/lib/python3.9/site-packages/tifffile/tifffile.py\u001B[0m in \u001B[0;36m?\u001B[0;34m(self, file, mode, name, offset, size)\u001B[0m\n\u001B[1;32m  14210\u001B[0m         \u001B[0mself\u001B[0m\u001B[0;34m.\u001B[0m\u001B[0m_offset\u001B[0m \u001B[0;34m=\u001B[0m \u001B[0;34m-\u001B[0m\u001B[0;36m1\u001B[0m \u001B[0;32mif\u001B[0m \u001B[0moffset\u001B[0m \u001B[0;32mis\u001B[0m \u001B[0;32mNone\u001B[0m \u001B[0;32melse\u001B[0m \u001B[0moffset\u001B[0m\u001B[0;34m\u001B[0m\u001B[0;34m\u001B[0m\u001B[0m\n\u001B[1;32m  14211\u001B[0m         \u001B[0mself\u001B[0m\u001B[0;34m.\u001B[0m\u001B[0m_size\u001B[0m \u001B[0;34m=\u001B[0m \u001B[0;34m-\u001B[0m\u001B[0;36m1\u001B[0m \u001B[0;32mif\u001B[0m \u001B[0msize\u001B[0m \u001B[0;32mis\u001B[0m \u001B[0;32mNone\u001B[0m \u001B[0;32melse\u001B[0m \u001B[0msize\u001B[0m\u001B[0;34m\u001B[0m\u001B[0;34m\u001B[0m\u001B[0m\n\u001B[1;32m  14212\u001B[0m         \u001B[0mself\u001B[0m\u001B[0;34m.\u001B[0m\u001B[0m_close\u001B[0m \u001B[0;34m=\u001B[0m \u001B[0;32mTrue\u001B[0m\u001B[0;34m\u001B[0m\u001B[0;34m\u001B[0m\u001B[0m\n\u001B[1;32m  14213\u001B[0m         \u001B[0mself\u001B[0m\u001B[0;34m.\u001B[0m\u001B[0m_lock\u001B[0m \u001B[0;34m=\u001B[0m \u001B[0mNullContext\u001B[0m\u001B[0;34m(\u001B[0m\u001B[0;34m)\u001B[0m\u001B[0;34m\u001B[0m\u001B[0;34m\u001B[0m\u001B[0m\n\u001B[0;32m> 14214\u001B[0;31m         \u001B[0mself\u001B[0m\u001B[0;34m.\u001B[0m\u001B[0mopen\u001B[0m\u001B[0;34m(\u001B[0m\u001B[0;34m)\u001B[0m\u001B[0;34m\u001B[0m\u001B[0;34m\u001B[0m\u001B[0m\n\u001B[0m\u001B[1;32m  14215\u001B[0m         \u001B[0;32massert\u001B[0m \u001B[0mself\u001B[0m\u001B[0;34m.\u001B[0m\u001B[0m_fh\u001B[0m \u001B[0;32mis\u001B[0m \u001B[0;32mnot\u001B[0m \u001B[0;32mNone\u001B[0m\u001B[0;34m\u001B[0m\u001B[0;34m\u001B[0m\u001B[0m\n",
      "\u001B[0;32m~/PycharmProjects/Capstone/venv/lib/python3.9/site-packages/tifffile/tifffile.py\u001B[0m in \u001B[0;36m?\u001B[0;34m(self)\u001B[0m\n\u001B[1;32m  14229\u001B[0m             \u001B[0;32mif\u001B[0m \u001B[0mself\u001B[0m\u001B[0;34m.\u001B[0m\u001B[0m_mode\u001B[0m \u001B[0;32mnot\u001B[0m \u001B[0;32min\u001B[0m \u001B[0;34m{\u001B[0m\u001B[0;34m'rb'\u001B[0m\u001B[0;34m,\u001B[0m \u001B[0;34m'r+b'\u001B[0m\u001B[0;34m,\u001B[0m \u001B[0;34m'wb'\u001B[0m\u001B[0;34m,\u001B[0m \u001B[0;34m'xb'\u001B[0m\u001B[0;34m}\u001B[0m\u001B[0;34m:\u001B[0m\u001B[0;34m\u001B[0m\u001B[0;34m\u001B[0m\u001B[0m\n\u001B[1;32m  14230\u001B[0m                 \u001B[0;32mraise\u001B[0m \u001B[0mValueError\u001B[0m\u001B[0;34m(\u001B[0m\u001B[0;34mf'invalid mode {self._mode}'\u001B[0m\u001B[0;34m)\u001B[0m\u001B[0;34m\u001B[0m\u001B[0;34m\u001B[0m\u001B[0m\n\u001B[1;32m  14231\u001B[0m             \u001B[0mself\u001B[0m\u001B[0;34m.\u001B[0m\u001B[0m_file\u001B[0m \u001B[0;34m=\u001B[0m \u001B[0mos\u001B[0m\u001B[0;34m.\u001B[0m\u001B[0mpath\u001B[0m\u001B[0;34m.\u001B[0m\u001B[0mrealpath\u001B[0m\u001B[0;34m(\u001B[0m\u001B[0mself\u001B[0m\u001B[0;34m.\u001B[0m\u001B[0m_file\u001B[0m\u001B[0;34m)\u001B[0m\u001B[0;34m\u001B[0m\u001B[0;34m\u001B[0m\u001B[0m\n\u001B[1;32m  14232\u001B[0m             \u001B[0mself\u001B[0m\u001B[0;34m.\u001B[0m\u001B[0m_dir\u001B[0m\u001B[0;34m,\u001B[0m \u001B[0mself\u001B[0m\u001B[0;34m.\u001B[0m\u001B[0m_name\u001B[0m \u001B[0;34m=\u001B[0m \u001B[0mos\u001B[0m\u001B[0;34m.\u001B[0m\u001B[0mpath\u001B[0m\u001B[0;34m.\u001B[0m\u001B[0msplit\u001B[0m\u001B[0;34m(\u001B[0m\u001B[0mself\u001B[0m\u001B[0;34m.\u001B[0m\u001B[0m_file\u001B[0m\u001B[0;34m)\u001B[0m\u001B[0;34m\u001B[0m\u001B[0;34m\u001B[0m\u001B[0m\n\u001B[0;32m> 14233\u001B[0;31m             self._fh = open(\n\u001B[0m\u001B[1;32m  14234\u001B[0m                 \u001B[0mself\u001B[0m\u001B[0;34m.\u001B[0m\u001B[0m_file\u001B[0m\u001B[0;34m,\u001B[0m \u001B[0mself\u001B[0m\u001B[0;34m.\u001B[0m\u001B[0m_mode\u001B[0m\u001B[0;34m,\u001B[0m \u001B[0mencoding\u001B[0m\u001B[0;34m=\u001B[0m\u001B[0;32mNone\u001B[0m\u001B[0;34m\u001B[0m\u001B[0;34m\u001B[0m\u001B[0m\n\u001B[1;32m  14235\u001B[0m             )  # type: ignore\n\u001B[1;32m  14236\u001B[0m             \u001B[0mself\u001B[0m\u001B[0;34m.\u001B[0m\u001B[0m_close\u001B[0m \u001B[0;34m=\u001B[0m \u001B[0;32mTrue\u001B[0m\u001B[0;34m\u001B[0m\u001B[0;34m\u001B[0m\u001B[0m\n",
      "\u001B[0;31mFileNotFoundError\u001B[0m: [Errno 2] No such file or directory: '/Users/lilllmeng/PycharmProjects/Capstone/prepare_dataset/image_directory_20230813_100/B07.tif'"
     ]
    }
   ],
   "source": [
    "numerical_values = forest_sat_dataset.get_numerical_values(index)\n",
    "print(numerical_values)\n",
    "save_numerical_values_to_csv(numerical_values, \"../data_csv/data.csv\")\n"
   ]
  }
 ],
 "metadata": {
  "kernelspec": {
   "name": "python3",
   "language": "python",
   "display_name": "Python 3 (ipykernel)"
  },
  "language_info": {
   "codemirror_mode": {
    "name": "ipython",
    "version": 3
   },
   "file_extension": ".py",
   "mimetype": "text/x-python",
   "name": "python",
   "nbconvert_exporter": "python",
   "pygments_lexer": "ipython3",
   "version": "3.9.7"
  }
 },
 "nbformat": 4,
 "nbformat_minor": 2
}
