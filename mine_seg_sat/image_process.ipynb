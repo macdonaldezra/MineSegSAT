{
 "cells": [
  {
   "cell_type": "code",
   "execution_count": null,
   "metadata": {},
   "outputs": [],
   "source": [
    "import dataset\n",
    "from pathlib import Path\n",
    "from dotenv import load_dotenv\n",
    "import os\n",
    "import numpy as np\n",
    "import csv\n",
    "\n",
    "\n",
    "\n",
    "load_dotenv()\n",
    "\n",
    "data_path = Path(os.getenv(\"prepare_dataset_folder\"))\n",
    "split = \"train\"  # or 'val' or 'test', depending on your dataset_splits.csv\n",
    "\n",
    "# Instantiate the dataset\n",
    "forest_sat_dataset = dataset.MineSATDataset(split=split, data_path=data_path)\n",
    "\n",
    "index = 3\n",
    "\n",
    "# Display the transformed images including NBR and NDVI\n",
    "forest_sat_dataset.display_transformed_images(index)\n"
   ]
  },
  {
   "cell_type": "code",
   "execution_count": null,
   "metadata": {},
   "outputs": [],
   "source": [
    "import numpy as np\n",
    "import csv\n",
    "\n",
    "def save_numerical_values_to_csv(numerical_values, csv_filename):\n",
    "    ndvi = numerical_values[\"NDVI\"]\n",
    "    nbr = numerical_values[\"NBR\"]\n",
    "    location = numerical_values[\"Location\"].replace(\"image_directory_\", \"\")\n",
    "\n",
    "    # Stack NDVI and NBR arrays\n",
    "    stacked_data = np.dstack((ndvi, nbr))\n",
    "\n",
    "    # Reshape the array to 2D\n",
    "    reshaped_data = stacked_data.reshape(-1, 2)\n",
    "\n",
    "    # Convert each row to a string representation\n",
    "    combined_data_as_strings = [\"[\" + \", \".join(map(str, row)) + \"]\" for row in reshaped_data]\n",
    "\n",
    "    # Join all string representations to form a single string representing the 2D array\n",
    "    final_data_string = \"[\" + \", \".join(combined_data_as_strings) + \"]\"\n",
    "\n",
    "    # Write to CSV\n",
    "    with open(csv_filename, 'w', newline='') as csvfile:\n",
    "        writer = csv.writer(csvfile)\n",
    "        writer.writerow(['Index', 'NDVI_NBR'])\n",
    "        writer.writerow([location, final_data_string])\n",
    "\n"
   ]
  },
  {
   "cell_type": "code",
   "execution_count": null,
   "metadata": {},
   "outputs": [],
   "source": [
    "numerical_values = forest_sat_dataset.get_numerical_values(index)\n",
    "print(numerical_values)  # 检查返回的字典\n",
    "save_numerical_values_to_csv(numerical_values, \"/Users/junyulyu/Desktop/Capstone/Useroutput.csv\")\n"
   ]
  }
 ],
 "metadata": {
  "kernelspec": {
   "display_name": "mine-seg-sat-14bnJD6w-py3.10",
   "language": "python",
   "name": "python3"
  },
  "language_info": {
   "codemirror_mode": {
    "name": "ipython",
    "version": 3
   },
   "file_extension": ".py",
   "mimetype": "text/x-python",
   "name": "python",
   "nbconvert_exporter": "python",
   "pygments_lexer": "ipython3",
   "version": "3.10.9"
  }
 },
 "nbformat": 4,
 "nbformat_minor": 2
}
