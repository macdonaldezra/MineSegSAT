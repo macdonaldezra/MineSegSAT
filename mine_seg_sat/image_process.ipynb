{
 "cells": [
  {
   "cell_type": "code",
   "execution_count": null,
   "metadata": {},
   "outputs": [],
   "source": [
    "import dataset\n",
    "from pathlib import Path\n",
    "from dotenv import load_dotenv\n",
    "import os\n",
    "\n",
    "load_dotenv()\n",
    "\n",
    "data_path = Path(os.getenv(\"prepare_dataset_folder\"))\n",
    "split = \"train\"  # or 'val' or 'test', depending on your dataset_splits.csv\n",
    "\n",
    "# Instantiate the dataset\n",
    "forest_sat_dataset = dataset.MineSATDataset(split=split, data_path=data_path)\n",
    "\n",
    "index = 3\n",
    "\n",
    "# Display the transformed images including NBR and NDVI\n",
    "forest_sat_dataset.display_transformed_images(index)\n"
   ]
  },
  {
   "cell_type": "code",
   "execution_count": null,
   "metadata": {},
   "outputs": [],
   "source": [
    "numerical_values = forest_sat_dataset.get_numerical_values(index)"
   ]
  },
  {
   "cell_type": "code",
   "execution_count": null,
   "metadata": {},
   "outputs": [],
   "source": [
    "\n",
    "import numpy as np\n",
    "import csv\n",
    "\n",
    "def save_numerical_values_to_csv(numerical_values, csv_filename):\n",
    "    # Flatten the numerical values and prepare them for writing to a CSV file\n",
    "    flattened_data = {}\n",
    "    for key, value in numerical_values.items():\n",
    "        if isinstance(value, np.ndarray):\n",
    "            flattened_data[key] = value.flatten()\n",
    "        else:\n",
    "            flattened_data[key] = value\n",
    "\n",
    "    # Find the longest array in the flattened data\n",
    "    max_length = max(len(v) for v in flattened_data.values())\n",
    "\n",
    "    # Ensure all arrays are the same length, filling with NaN where necessary\n",
    "    for key in flattened_data:\n",
    "        length = len(flattened_data[key])\n",
    "        if length < max_length:\n",
    "            flattened_data[key] = np.pad(flattened_data[key], (0, max_length - length), constant_values=np.nan)\n",
    "\n",
    "    # Write to CSV\n",
    "    with open(csv_filename, 'w', newline='') as csvfile:\n",
    "        fieldnames = list(flattened_data.keys())\n",
    "        writer = csv.DictWriter(csvfile, fieldnames=fieldnames)\n",
    "\n",
    "        writer.writeheader()\n",
    "        for i in range(max_length):\n",
    "            row = {key: flattened_data[key][i] for key in fieldnames}\n",
    "            writer.writerow(row)\n"
   ]
  },
  {
   "cell_type": "code",
   "execution_count": null,
   "metadata": {},
   "outputs": [],
   "source": [
    "numerical_values = forest_sat_dataset.get_numerical_values(index)\n",
    "numerical_values_filtered = {key: numerical_values[key] for key in ['NDVI', 'NBR']}\n",
    "save_numerical_values_to_csv(numerical_values_filtered, \"/Users/junyulyu/Desktop/Capstone/Useroutput.csv\")\n"
   ]
  }
 ],
 "metadata": {
  "kernelspec": {
   "display_name": "myenv",
   "language": "python",
   "name": "myenv"
  },
  "language_info": {
   "codemirror_mode": {
    "name": "ipython",
    "version": 3
   },
   "file_extension": ".py",
   "mimetype": "text/x-python",
   "name": "python",
   "nbconvert_exporter": "python",
   "pygments_lexer": "ipython3",
   "version": "3.9.7"
  }
 },
 "nbformat": 4,
 "nbformat_minor": 2
}
