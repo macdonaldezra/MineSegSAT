{
 "cells": [
  {
   "cell_type": "code",
   "execution_count": null,
   "metadata": {},
   "outputs": [],
   "source": [
    "import dataset\n",
    "from pathlib import Path\n",
    "from dotenv import load_dotenv\n",
    "import os\n",
    "import numpy as np\n",
    "import csv\n",
    "\n",
    "load_dotenv()\n",
    "\n",
    "data_path = Path(os.getenv(\"prepare_dataset_folder\"))\n",
    "split = \"train\"\n",
    "\n",
    "# Instantiate the dataset\n",
    "forest_sat_dataset = dataset.MineSATDataset(split=split, data_path=data_path)\n",
    "\n",
    "index = 3\n",
    "\n",
    "# Display the transformed images including NBR and NDVI\n",
    "forest_sat_dataset.display_transformed_images(index)\n"
   ]
  },
  {
   "cell_type": "code",
   "execution_count": null,
   "metadata": {},
   "outputs": [],
   "source": [
    "def save_all_numerical_values_to_csv(dataset, csv_filename):\n",
    "    # Open the CSV file to write into\n",
    "    with open(csv_filename, 'w', newline='') as csvfile:\n",
    "        writer = csv.writer(csvfile)\n",
    "        # Write the header\n",
    "        writer.writerow(['ID', 'NDVI', 'NBR', 'Label'])\n",
    "\n",
    "        # Loop through all the indices in the dataset\n",
    "        for index in range(len(dataset)):\n",
    "            numerical_values = dataset.get_numerical_values(index)\n",
    "            if numerical_values:  # Check if the dictionary is not empty\n",
    "                ndvi_list = numerical_values[\"NDVI\"].flatten().tolist()\n",
    "                nbr_list = numerical_values[\"NBR\"].flatten().tolist()\n",
    "                location = numerical_values[\"Location\"].replace(\n",
    "                    \"image_directory_\", \"\")\n",
    "\n",
    "                # Convert the lists to string representations\n",
    "                ndvi_str = \"[\" + \", \".join(map(str, ndvi_list)) + \"]\"\n",
    "                nbr_str = \"[\" + \", \".join(map(str, nbr_list)) + \"]\"\n",
    "\n",
    "                # Write the data to the CSV file\n",
    "                # Leave the label column empty for manual labeling\n",
    "                writer.writerow([location, ndvi_str, nbr_str, \"\"])\n"
   ]
  },
  {
   "cell_type": "code",
   "execution_count": null,
   "metadata": {},
   "outputs": [],
   "source": [
    "numerical_values = forest_sat_dataset.get_numerical_values(index)\n",
    "print(numerical_values)\n",
    "save_all_numerical_values_to_csv(\n",
    "    forest_sat_dataset, \"./models/calculated_data.csv\"\n"
   ]
  }
 ],
 "metadata": {
  "kernelspec": {
   "display_name": "myenv",
   "language": "python",
   "name": "myenv"
  },
  "language_info": {
   "codemirror_mode": {
    "name": "ipython",
    "version": 3
   },
   "file_extension": ".py",
   "mimetype": "text/x-python",
   "name": "python",
   "nbconvert_exporter": "python",
   "pygments_lexer": "ipython3",
   "version": "3.9.7"
  }
 },
 "nbformat": 4,
 "nbformat_minor": 2
}
