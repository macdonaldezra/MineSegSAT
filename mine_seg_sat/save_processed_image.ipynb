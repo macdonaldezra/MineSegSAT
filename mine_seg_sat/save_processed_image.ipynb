{
 "cells": [
  {
   "cell_type": "code",
   "execution_count": 2,
   "id": "initial_id",
   "metadata": {
    "ExecuteTime": {
     "end_time": "2023-11-09T16:56:03.933325Z",
     "start_time": "2023-11-09T16:56:00.517820Z"
    },
    "collapsed": true
   },
   "outputs": [
    {
     "name": "stderr",
     "output_type": "stream",
     "text": [
      "/var/folders/qp/39q3q5193vb9k27hwzyk9fk80000gn/T/ipykernel_17015/2599301494.py:52: MatplotlibDeprecationWarning: The tostring_rgb function was deprecated in Matplotlib 3.8 and will be removed two minor releases later. Use buffer_rgba instead.\n",
      "  image_np = np.frombuffer(fig.canvas.tostring_rgb(), dtype=np.uint8)\n",
      "/Users/annabelle/Documents/NEU/CS7980/Capstone/mine_seg_sat/dataset.py:250: RuntimeWarning: invalid value encountered in divide\n",
      "  return band / np.percentile(band, percentile)\n",
      "/var/folders/qp/39q3q5193vb9k27hwzyk9fk80000gn/T/ipykernel_17015/2599301494.py:68: RuntimeWarning: invalid value encountered in divide\n",
      "  image_8bit = ((image - np.min(image)) /\n",
      "/var/folders/qp/39q3q5193vb9k27hwzyk9fk80000gn/T/ipykernel_17015/2599301494.py:68: RuntimeWarning: invalid value encountered in cast\n",
      "  image_8bit = ((image - np.min(image)) /\n",
      "/Users/annabelle/Documents/NEU/CS7980/Capstone/mine_seg_sat/dataset.py:250: RuntimeWarning: divide by zero encountered in divide\n",
      "  return band / np.percentile(band, percentile)\n",
      "/Users/annabelle/Documents/NEU/CS7980/Capstone/mine_seg_sat/dataset.py:546: RuntimeWarning: invalid value encountered in subtract\n",
      "  NDVI = self.safe_divide(B08 - B04, B08 + B04)\n"
     ]
    }
   ],
   "source": [
    "import os\n",
    "from PIL import Image\n",
    "from pathlib import Path\n",
    "from dotenv import load_dotenv\n",
    "import dataset\n",
    "import tifffile as tiff\n",
    "import numpy as np\n",
    "import matplotlib.pyplot as plt\n",
    "\n",
    "load_dotenv()\n",
    "\n",
    "data_path = Path(os.getenv(\"prepare_dataset_folder\"))\n",
    "processed_path = Path(os.getenv(\"processed_images_folder\"))\n",
    "split = \"train\"  # Adjust as needed for 'val' or 'test'\n",
    "\n",
    "# Ensure the processed data folder exists\n",
    "processed_path.mkdir(parents=True, exist_ok=True)\n",
    "\n",
    "# Instantiate the dataset\n",
    "forest_sat_dataset = dataset.MineSATDataset(split=split, data_path=data_path)\n",
    "\n",
    "# Iterate over all dataset indices\n",
    "for index in range(len(forest_sat_dataset)):\n",
    "    # Get the filepaths for the current index\n",
    "    filepath = forest_sat_dataset.filepaths[index]\n",
    "\n",
    "    # Extract the original directory name\n",
    "    original_dir_name = Path(filepath).name\n",
    "\n",
    "    # Get the transformed images\n",
    "    images_dict = forest_sat_dataset.get_images(\n",
    "        index)  # Ensure you call the correct method\n",
    "\n",
    "    # Create a new directory path for the processed images\n",
    "    processed_dir_path = processed_path / original_dir_name\n",
    "    processed_dir_path.mkdir(parents=True, exist_ok=True)\n",
    "\n",
    "    for img_type, image in images_dict.items():\n",
    "        # Skip saving the mask if you only want the indices and RGB images\n",
    "        if img_type == \"Mask\":\n",
    "            continue\n",
    "\n",
    "        if img_type == \"NBR\":\n",
    "            # Apply color mapping for NBR\n",
    "            plt.imshow(image, cmap=plt.cm.RdYlGn, vmin=-1, vmax=1)\n",
    "            plt.colorbar(orientation='vertical')\n",
    "            plt.axis('off')\n",
    "\n",
    "            # Save the current figure to a numpy array\n",
    "            fig = plt.gcf()\n",
    "            plt.draw()\n",
    "            image_np = np.frombuffer(fig.canvas.tostring_rgb(), dtype=np.uint8)\n",
    "            image_np = image_np.reshape(\n",
    "                fig.canvas.get_width_height()[::-1] + (3,))\n",
    "\n",
    "            # Convert numpy array to PIL Image\n",
    "            pil_image = Image.fromarray(image_np)\n",
    "\n",
    "            # Define the filename, replacing .tif with .png for NBR\n",
    "            filename = f\"{img_type}.png\"\n",
    "\n",
    "            # Close the figure to free memory\n",
    "            plt.close(fig)\n",
    "        else:\n",
    "            # Normalize the image data to 0-255 for other image types\n",
    "            # Clip to the range you want\n",
    "            image = np.clip(image, 0, np.max(image))\n",
    "            image_8bit = ((image - np.min(image)) /\n",
    "                          (np.max(image) - np.min(image)) * 255).astype('uint8')\n",
    "\n",
    "            # If the image has more than one channel, convert it to RGB\n",
    "            if image_8bit.ndim > 2 and image_8bit.shape[2] > 3:\n",
    "                # Convert multi-band images (e.g., 4 bands) to RGB (3 bands) before saving as JPEG\n",
    "                image_8bit = image_8bit[:, :, :3]\n",
    "\n",
    "            # Create the PIL Image from the numpy array\n",
    "            pil_image = Image.fromarray(image_8bit)\n",
    "\n",
    "            # Define the filename, replacing .tif with .jpg for other image types\n",
    "            filename = f\"{img_type}.jpg\"\n",
    "\n",
    "        # Define the full path for the file\n",
    "        filepath = processed_dir_path / filename\n",
    "\n",
    "        # Save the image\n",
    "        pil_image.save(filepath)\n"
   ]
  },
  {
   "cell_type": "code",
   "execution_count": null,
   "id": "dc2f00d1e063ca7e",
   "metadata": {
    "collapsed": false
   },
   "outputs": [],
   "source": []
  }
 ],
 "metadata": {
  "kernelspec": {
   "display_name": "myenv",
   "language": "python",
   "name": "myenv"
  },
  "language_info": {
   "codemirror_mode": {
    "name": "ipython",
    "version": 3
   },
   "file_extension": ".py",
   "mimetype": "text/x-python",
   "name": "python",
   "nbconvert_exporter": "python",
   "pygments_lexer": "ipython3",
   "version": "3.9.7"
  }
 },
 "nbformat": 4,
 "nbformat_minor": 5
}
