{
 "cells": [
  {
   "cell_type": "code",
   "execution_count": 1,
   "id": "initial_id",
   "metadata": {
    "collapsed": true,
    "ExecuteTime": {
     "end_time": "2023-11-09T16:56:03.933325Z",
     "start_time": "2023-11-09T16:56:00.517820Z"
    }
   },
   "outputs": [
    {
     "ename": "AssertionError",
     "evalue": "dataset_splits.csv not found in data_path.",
     "output_type": "error",
     "traceback": [
      "\u001B[0;31m---------------------------------------------------------------------------\u001B[0m",
      "\u001B[0;31mAssertionError\u001B[0m                            Traceback (most recent call last)",
      "Cell \u001B[0;32mIn[1], line 19\u001B[0m\n\u001B[1;32m     16\u001B[0m processed_path\u001B[38;5;241m.\u001B[39mmkdir(parents\u001B[38;5;241m=\u001B[39m\u001B[38;5;28;01mTrue\u001B[39;00m, exist_ok\u001B[38;5;241m=\u001B[39m\u001B[38;5;28;01mTrue\u001B[39;00m)\n\u001B[1;32m     18\u001B[0m \u001B[38;5;66;03m# Instantiate the dataset\u001B[39;00m\n\u001B[0;32m---> 19\u001B[0m forest_sat_dataset \u001B[38;5;241m=\u001B[39m \u001B[43mdataset\u001B[49m\u001B[38;5;241;43m.\u001B[39;49m\u001B[43mMineSATDataset\u001B[49m\u001B[43m(\u001B[49m\u001B[43msplit\u001B[49m\u001B[38;5;241;43m=\u001B[39;49m\u001B[43msplit\u001B[49m\u001B[43m,\u001B[49m\u001B[43m \u001B[49m\u001B[43mdata_path\u001B[49m\u001B[38;5;241;43m=\u001B[39;49m\u001B[43mdata_path\u001B[49m\u001B[43m)\u001B[49m\n\u001B[1;32m     21\u001B[0m \u001B[38;5;66;03m# Iterate over all dataset indices\u001B[39;00m\n\u001B[1;32m     22\u001B[0m \u001B[38;5;28;01mfor\u001B[39;00m index \u001B[38;5;129;01min\u001B[39;00m \u001B[38;5;28mrange\u001B[39m(\u001B[38;5;28mlen\u001B[39m(forest_sat_dataset)):\n\u001B[1;32m     23\u001B[0m     \u001B[38;5;66;03m# Get the filepaths for the current index\u001B[39;00m\n",
      "File \u001B[0;32m~/PycharmProjects/Capstone/mine_seg_sat/dataset.py:50\u001B[0m, in \u001B[0;36mMineSATDataset.__init__\u001B[0;34m(self, split, data_path, transformations, preprocessing, flatten_mask, use_mask, rescale, min_max_normalization, max_values)\u001B[0m\n\u001B[1;32m     44\u001B[0m \u001B[38;5;28mself\u001B[39m\u001B[38;5;241m.\u001B[39msplit \u001B[38;5;241m=\u001B[39m split\n\u001B[1;32m     45\u001B[0m \u001B[38;5;28;01massert\u001B[39;00m \u001B[38;5;28mself\u001B[39m\u001B[38;5;241m.\u001B[39msplit \u001B[38;5;129;01min\u001B[39;00m [\n\u001B[1;32m     46\u001B[0m     \u001B[38;5;124m\"\u001B[39m\u001B[38;5;124mtrain\u001B[39m\u001B[38;5;124m\"\u001B[39m,\n\u001B[1;32m     47\u001B[0m     \u001B[38;5;124m\"\u001B[39m\u001B[38;5;124mval\u001B[39m\u001B[38;5;124m\"\u001B[39m,\n\u001B[1;32m     48\u001B[0m     \u001B[38;5;124m\"\u001B[39m\u001B[38;5;124mtest\u001B[39m\u001B[38;5;124m\"\u001B[39m,\n\u001B[1;32m     49\u001B[0m ], \u001B[38;5;124mf\u001B[39m\u001B[38;5;124m\"\u001B[39m\u001B[38;5;124mSplit must be one of \u001B[39m\u001B[38;5;124m'\u001B[39m\u001B[38;5;124mtrain\u001B[39m\u001B[38;5;124m'\u001B[39m\u001B[38;5;124m, \u001B[39m\u001B[38;5;124m'\u001B[39m\u001B[38;5;124mval\u001B[39m\u001B[38;5;124m'\u001B[39m\u001B[38;5;124m, \u001B[39m\u001B[38;5;124m'\u001B[39m\u001B[38;5;124mtest\u001B[39m\u001B[38;5;124m'\u001B[39m\u001B[38;5;124m, got \u001B[39m\u001B[38;5;132;01m{\u001B[39;00m\u001B[38;5;28mself\u001B[39m\u001B[38;5;241m.\u001B[39msplit\u001B[38;5;132;01m}\u001B[39;00m\u001B[38;5;124m\"\u001B[39m\n\u001B[0;32m---> 50\u001B[0m \u001B[38;5;28;01massert\u001B[39;00m (\n\u001B[1;32m     51\u001B[0m         \u001B[38;5;28mself\u001B[39m\u001B[38;5;241m.\u001B[39mdata_path \u001B[38;5;241m/\u001B[39m \u001B[38;5;124m\"\u001B[39m\u001B[38;5;124mdataset_splits.csv\u001B[39m\u001B[38;5;124m\"\u001B[39m\n\u001B[1;32m     52\u001B[0m )\u001B[38;5;241m.\u001B[39mexists(), \u001B[38;5;124m\"\u001B[39m\u001B[38;5;124mdataset_splits.csv not found in data_path.\u001B[39m\u001B[38;5;124m\"\u001B[39m\n\u001B[1;32m     53\u001B[0m \u001B[38;5;28mself\u001B[39m\u001B[38;5;241m.\u001B[39muse_mask \u001B[38;5;241m=\u001B[39m use_mask\n\u001B[1;32m     54\u001B[0m \u001B[38;5;28mself\u001B[39m\u001B[38;5;241m.\u001B[39mrescale \u001B[38;5;241m=\u001B[39m rescale\n",
      "\u001B[0;31mAssertionError\u001B[0m: dataset_splits.csv not found in data_path."
     ]
    }
   ],
   "source": [
    "\n",
    "import os\n",
    "from PIL import Image\n",
    "from pathlib import Path\n",
    "from dotenv import load_dotenv\n",
    "import dataset\n",
    "import tifffile as tiff\n",
    "import numpy as np\n",
    "\n",
    "load_dotenv()\n",
    "\n",
    "data_path = Path(os.getenv(\"prepare_dataset_folder\"))\n",
    "processed_path = Path(os.getenv(\"processed_images_folder\"))\n",
    "split = \"train\"  # Adjust as needed for 'val' or 'test'\n",
    "\n",
    "# Ensure the processed data folder exists\n",
    "processed_path.mkdir(parents=True, exist_ok=True)\n",
    "\n",
    "# Instantiate the dataset\n",
    "forest_sat_dataset = dataset.MineSATDataset(split=split, data_path=data_path)\n",
    "\n",
    "# Iterate over all dataset indices\n",
    "for index in range(len(forest_sat_dataset)):\n",
    "    # Get the filepaths for the current index\n",
    "    filepath = forest_sat_dataset.filepaths[index]\n",
    "    \n",
    "    # Extract the original directory name\n",
    "    original_dir_name = Path(filepath).name\n",
    "    \n",
    "    # Get the transformed images\n",
    "    images_dict = forest_sat_dataset.get_images(index)  # Ensure you call the correct method\n",
    "    \n",
    "    # Create a new directory path for the processed images\n",
    "    processed_dir_path = processed_path / original_dir_name\n",
    "    processed_dir_path.mkdir(parents=True, exist_ok=True)\n",
    "    \n",
    "    for img_type, image in images_dict.items():\n",
    "        # Skip saving the mask if you only want the indices and RGB images\n",
    "        if img_type == \"Mask\":\n",
    "            continue\n",
    "\n",
    "        # Normalize the image data to 0-255\n",
    "        image = np.clip(image, 0, np.max(image))  # Clip to the range you want\n",
    "        image_8bit = ((image - np.min(image)) / (np.max(image) - np.min(image)) * 255).astype('uint8')\n",
    "\n",
    "        # If the image has more than one channel, convert it to RGB\n",
    "        if image_8bit.ndim > 2 and image_8bit.shape[2] > 3:\n",
    "            # Convert multi-band images (e.g., 4 bands) to RGB (3 bands) before saving as JPEG\n",
    "            image_8bit = image_8bit[:, :, :3]\n",
    "\n",
    "        # Create the PIL Image from the numpy array\n",
    "        pil_image = Image.fromarray(image_8bit)\n",
    "\n",
    "        # Define the filename, replacing .tif with .jpg\n",
    "        filename = f\"{img_type}.jpg\"\n",
    "\n",
    "        # Define the full path for the .jpg file\n",
    "        filepath = processed_dir_path / filename\n",
    "\n",
    "        # Save the image as a JPEG\n",
    "        pil_image.save(filepath, 'JPEG')"
   ]
  },
  {
   "cell_type": "code",
   "execution_count": null,
   "outputs": [],
   "source": [],
   "metadata": {
    "collapsed": false
   },
   "id": "dc2f00d1e063ca7e"
  }
 ],
 "metadata": {
  "kernelspec": {
   "display_name": "Python 3",
   "language": "python",
   "name": "python3"
  },
  "language_info": {
   "codemirror_mode": {
    "name": "ipython",
    "version": 2
   },
   "file_extension": ".py",
   "mimetype": "text/x-python",
   "name": "python",
   "nbconvert_exporter": "python",
   "pygments_lexer": "ipython2",
   "version": "2.7.6"
  }
 },
 "nbformat": 4,
 "nbformat_minor": 5
}
